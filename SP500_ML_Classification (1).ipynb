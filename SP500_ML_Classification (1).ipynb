{
  "nbformat": 4,
  "nbformat_minor": 0,
  "metadata": {
    "colab": {
      "name": "SP500_ML_Classification.ipynb",
      "provenance": [],
      "collapsed_sections": []
    },
    "kernelspec": {
      "name": "python3",
      "display_name": "Python 3"
    },
    "language_info": {
      "name": "python"
    }
  },
  "cells": [
    {
      "cell_type": "markdown",
      "source": [
        "# Buy/Sell Classification of the SP500 "
      ],
      "metadata": {
        "id": "riCldESuJ2aW"
      }
    },
    {
      "cell_type": "code",
      "execution_count": 1,
      "metadata": {
        "id": "9Zai8f1gJV1P"
      },
      "outputs": [],
      "source": [
        "import pandas as pd\n",
        "import numpy as np\n",
        "import matplotlib.pyplot as plt\n",
        "import seaborn as sns\n",
        "import datetime as dt"
      ]
    },
    {
      "cell_type": "markdown",
      "source": [
        "### Install and import YFinance"
      ],
      "metadata": {
        "id": "DKCi5f0dKmaB"
      }
    },
    {
      "cell_type": "code",
      "source": [
        "!pip install yfinance"
      ],
      "metadata": {
        "colab": {
          "base_uri": "https://localhost:8080/"
        },
        "id": "JkKgfM9zKTcU",
        "outputId": "3c816841-fb12-4a29-863b-66e4784e768a"
      },
      "execution_count": 2,
      "outputs": [
        {
          "output_type": "stream",
          "name": "stdout",
          "text": [
            "Looking in indexes: https://pypi.org/simple, https://us-python.pkg.dev/colab-wheels/public/simple/\n",
            "Collecting yfinance\n",
            "  Downloading yfinance-0.1.74-py2.py3-none-any.whl (27 kB)\n",
            "Requirement already satisfied: pandas>=0.24.0 in /usr/local/lib/python3.7/dist-packages (from yfinance) (1.3.5)\n",
            "Requirement already satisfied: numpy>=1.15 in /usr/local/lib/python3.7/dist-packages (from yfinance) (1.21.6)\n",
            "Collecting requests>=2.26\n",
            "  Downloading requests-2.28.1-py3-none-any.whl (62 kB)\n",
            "\u001b[K     |████████████████████████████████| 62 kB 510 kB/s \n",
            "\u001b[?25hRequirement already satisfied: multitasking>=0.0.7 in /usr/local/lib/python3.7/dist-packages (from yfinance) (0.0.11)\n",
            "Collecting lxml>=4.5.1\n",
            "  Downloading lxml-4.9.1-cp37-cp37m-manylinux_2_17_x86_64.manylinux2014_x86_64.manylinux_2_24_x86_64.whl (6.4 MB)\n",
            "\u001b[K     |████████████████████████████████| 6.4 MB 12.2 MB/s \n",
            "\u001b[?25hRequirement already satisfied: python-dateutil>=2.7.3 in /usr/local/lib/python3.7/dist-packages (from pandas>=0.24.0->yfinance) (2.8.2)\n",
            "Requirement already satisfied: pytz>=2017.3 in /usr/local/lib/python3.7/dist-packages (from pandas>=0.24.0->yfinance) (2022.1)\n",
            "Requirement already satisfied: six>=1.5 in /usr/local/lib/python3.7/dist-packages (from python-dateutil>=2.7.3->pandas>=0.24.0->yfinance) (1.15.0)\n",
            "Requirement already satisfied: urllib3<1.27,>=1.21.1 in /usr/local/lib/python3.7/dist-packages (from requests>=2.26->yfinance) (1.24.3)\n",
            "Requirement already satisfied: idna<4,>=2.5 in /usr/local/lib/python3.7/dist-packages (from requests>=2.26->yfinance) (2.10)\n",
            "Requirement already satisfied: certifi>=2017.4.17 in /usr/local/lib/python3.7/dist-packages (from requests>=2.26->yfinance) (2022.6.15)\n",
            "Requirement already satisfied: charset-normalizer<3,>=2 in /usr/local/lib/python3.7/dist-packages (from requests>=2.26->yfinance) (2.1.0)\n",
            "Installing collected packages: requests, lxml, yfinance\n",
            "  Attempting uninstall: requests\n",
            "    Found existing installation: requests 2.23.0\n",
            "    Uninstalling requests-2.23.0:\n",
            "      Successfully uninstalled requests-2.23.0\n",
            "  Attempting uninstall: lxml\n",
            "    Found existing installation: lxml 4.2.6\n",
            "    Uninstalling lxml-4.2.6:\n",
            "      Successfully uninstalled lxml-4.2.6\n",
            "\u001b[31mERROR: pip's dependency resolver does not currently take into account all the packages that are installed. This behaviour is the source of the following dependency conflicts.\n",
            "google-colab 1.0.0 requires requests~=2.23.0, but you have requests 2.28.1 which is incompatible.\n",
            "datascience 0.10.6 requires folium==0.2.1, but you have folium 0.8.3 which is incompatible.\u001b[0m\n",
            "Successfully installed lxml-4.9.1 requests-2.28.1 yfinance-0.1.74\n"
          ]
        }
      ]
    },
    {
      "cell_type": "code",
      "source": [
        "import yfinance as yf"
      ],
      "metadata": {
        "id": "mZo-zu7LKuUG"
      },
      "execution_count": 3,
      "outputs": []
    },
    {
      "cell_type": "markdown",
      "source": [
        "## Using SP500 data from the turn of the century to July 2022"
      ],
      "metadata": {
        "id": "7MF0wN5bH0Yf"
      }
    },
    {
      "cell_type": "code",
      "source": [
        "df = yf.download('SPY', start=\"2000-01-01\", end=\"2022-07-01\")"
      ],
      "metadata": {
        "colab": {
          "base_uri": "https://localhost:8080/"
        },
        "id": "U8QSvgDCKwkA",
        "outputId": "ffbc1e91-634e-42e1-8bc4-ff7356d3290a"
      },
      "execution_count": 4,
      "outputs": [
        {
          "output_type": "stream",
          "name": "stdout",
          "text": [
            "\r[*********************100%***********************]  1 of 1 completed\n"
          ]
        }
      ]
    },
    {
      "cell_type": "markdown",
      "source": [
        "## Creating lagging variable for the Machine learning algorithm to be able to rely on short term memory in recent abberations in the data \n",
        "\n",
        "*   List item\n",
        "*   List item\n",
        "\n"
      ],
      "metadata": {
        "id": "deKkIBNjEJuc"
      }
    },
    {
      "cell_type": "code",
      "source": [
        "#Generating variables\n",
        "\n",
        "#pct change denotes the change in the price from open-open\n",
        "# this encompases the movement in price throughout the night\n",
        "df['Pct_change'] = df['Open'].pct_change()\n",
        "\n",
        "#gain represents the daily gain/loss if negative\n",
        "df['Gain'] = df['Close'] - df['Open']\n",
        "\n",
        "#ceating a lagging variable\n",
        "df['pct_change_yesterday'] = df['Pct_change'].shift(1)\n",
        "\n",
        "df['lag_avg_close3'] = df['Close'].rolling(3).mean().shift(1)\n",
        "\n",
        "df['lag_avg_close5'] = df['Close'].rolling(5).mean().shift(1)\n",
        "\n",
        "df['Volume_yesterday'] = df['Volume'].shift(1)\n",
        "\n"
      ],
      "metadata": {
        "id": "ySWcd7WFLg7q"
      },
      "execution_count": 5,
      "outputs": []
    },
    {
      "cell_type": "markdown",
      "source": [
        "## Constructing a lagging percentage change but with a special damping coefficient if a specific condition has been met.\n",
        "\n",
        "### --> If there has been a history of 2 or more negative percentage return days in a lagging 3 day window, then, with the if statment below, there will be a damping coefficient multiplied into the metric in order to damp the average percentage returns so that I do not over state the average when the market is trending downward"
      ],
      "metadata": {
        "id": "etjgu05hI4Sw"
      }
    },
    {
      "cell_type": "code",
      "source": [
        "df['Pct_change_lag3_damp'] = np.zeros(df.shape[0])\n",
        "\n",
        "arr = np.array(df['Pct_change'])\n",
        "window_size = 3\n",
        "  \n",
        "i = 0\n",
        "moving_averages = []\n",
        "  \n",
        "# Loop through the array to consider\n",
        "# every window of size 3\n",
        "while i < len(arr) - window_size + 1:\n",
        "    \n",
        "    # Store elements from i to i+window_size\n",
        "    # in list to get the current window\n",
        "    window = arr[i : i + window_size]\n",
        "\n",
        "    #if there is  equal to or more than 2 negative movements in the past 3 days\n",
        "    # insert a proportion to take down the expectations\n",
        "    if (np.sum(window <= 0) >= 2):\n",
        "      df['Pct_change_lag3_damp'][i+window_size-1] = (sum(window) / window_size)*1.5\n",
        "    else:\n",
        "  \n",
        "    # Calculate the average of current window\n",
        "      df['Pct_change_lag3_damp'][i+window_size-1] = (sum(window) / window_size)\n",
        "      \n",
        "    # Shift window to right by one position\n",
        "    i += 1\n",
        "  \n",
        "\n",
        "df.head()"
      ],
      "metadata": {
        "colab": {
          "base_uri": "https://localhost:8080/",
          "height": 549
        },
        "id": "V0JaS4ElI15c",
        "outputId": "cfa3b446-feec-4af6-fc17-45c873db2b95"
      },
      "execution_count": 6,
      "outputs": [
        {
          "output_type": "stream",
          "name": "stderr",
          "text": [
            "/usr/local/lib/python3.7/dist-packages/ipykernel_launcher.py:20: SettingWithCopyWarning: \n",
            "A value is trying to be set on a copy of a slice from a DataFrame\n",
            "\n",
            "See the caveats in the documentation: https://pandas.pydata.org/pandas-docs/stable/user_guide/indexing.html#returning-a-view-versus-a-copy\n",
            "/usr/local/lib/python3.7/dist-packages/ipykernel_launcher.py:24: SettingWithCopyWarning: \n",
            "A value is trying to be set on a copy of a slice from a DataFrame\n",
            "\n",
            "See the caveats in the documentation: https://pandas.pydata.org/pandas-docs/stable/user_guide/indexing.html#returning-a-view-versus-a-copy\n"
          ]
        },
        {
          "output_type": "execute_result",
          "data": {
            "text/plain": [
              "                 Open       High         Low     Close  Adj Close    Volume  \\\n",
              "Date                                                                          \n",
              "2000-01-03  148.25000  148.25000  143.875000  145.4375  96.139778   8164300   \n",
              "2000-01-04  143.53125  144.06250  139.640625  139.7500  92.380135   8089800   \n",
              "2000-01-05  139.93750  141.53125  137.250000  140.0000  92.545326  12177900   \n",
              "2000-01-06  139.62500  141.50000  137.750000  137.7500  91.058060   6227200   \n",
              "2000-01-07  140.31250  145.75000  140.062500  145.7500  96.346375   8066500   \n",
              "\n",
              "            Pct_change     Gain  pct_change_yesterday  lag_avg_close3  \\\n",
              "Date                                                                    \n",
              "2000-01-03         NaN -2.81250                   NaN             NaN   \n",
              "2000-01-04   -0.031830 -3.78125                   NaN             NaN   \n",
              "2000-01-05   -0.025038  0.06250             -0.031830             NaN   \n",
              "2000-01-06   -0.002233 -1.87500             -0.025038      141.729167   \n",
              "2000-01-07    0.004924  5.43750             -0.002233      139.166667   \n",
              "\n",
              "            lag_avg_close5  Volume_yesterday  Pct_change_lag3_damp  \n",
              "Date                                                                \n",
              "2000-01-03             NaN               NaN              0.000000  \n",
              "2000-01-04             NaN         8164300.0              0.000000  \n",
              "2000-01-05             NaN         8089800.0                   NaN  \n",
              "2000-01-06             NaN        12177900.0             -0.029550  \n",
              "2000-01-07             NaN         6227200.0             -0.011174  "
            ],
            "text/html": [
              "\n",
              "  <div id=\"df-26d35f78-83e8-4f52-8265-6717c58e67b1\">\n",
              "    <div class=\"colab-df-container\">\n",
              "      <div>\n",
              "<style scoped>\n",
              "    .dataframe tbody tr th:only-of-type {\n",
              "        vertical-align: middle;\n",
              "    }\n",
              "\n",
              "    .dataframe tbody tr th {\n",
              "        vertical-align: top;\n",
              "    }\n",
              "\n",
              "    .dataframe thead th {\n",
              "        text-align: right;\n",
              "    }\n",
              "</style>\n",
              "<table border=\"1\" class=\"dataframe\">\n",
              "  <thead>\n",
              "    <tr style=\"text-align: right;\">\n",
              "      <th></th>\n",
              "      <th>Open</th>\n",
              "      <th>High</th>\n",
              "      <th>Low</th>\n",
              "      <th>Close</th>\n",
              "      <th>Adj Close</th>\n",
              "      <th>Volume</th>\n",
              "      <th>Pct_change</th>\n",
              "      <th>Gain</th>\n",
              "      <th>pct_change_yesterday</th>\n",
              "      <th>lag_avg_close3</th>\n",
              "      <th>lag_avg_close5</th>\n",
              "      <th>Volume_yesterday</th>\n",
              "      <th>Pct_change_lag3_damp</th>\n",
              "    </tr>\n",
              "    <tr>\n",
              "      <th>Date</th>\n",
              "      <th></th>\n",
              "      <th></th>\n",
              "      <th></th>\n",
              "      <th></th>\n",
              "      <th></th>\n",
              "      <th></th>\n",
              "      <th></th>\n",
              "      <th></th>\n",
              "      <th></th>\n",
              "      <th></th>\n",
              "      <th></th>\n",
              "      <th></th>\n",
              "      <th></th>\n",
              "    </tr>\n",
              "  </thead>\n",
              "  <tbody>\n",
              "    <tr>\n",
              "      <th>2000-01-03</th>\n",
              "      <td>148.25000</td>\n",
              "      <td>148.25000</td>\n",
              "      <td>143.875000</td>\n",
              "      <td>145.4375</td>\n",
              "      <td>96.139778</td>\n",
              "      <td>8164300</td>\n",
              "      <td>NaN</td>\n",
              "      <td>-2.81250</td>\n",
              "      <td>NaN</td>\n",
              "      <td>NaN</td>\n",
              "      <td>NaN</td>\n",
              "      <td>NaN</td>\n",
              "      <td>0.000000</td>\n",
              "    </tr>\n",
              "    <tr>\n",
              "      <th>2000-01-04</th>\n",
              "      <td>143.53125</td>\n",
              "      <td>144.06250</td>\n",
              "      <td>139.640625</td>\n",
              "      <td>139.7500</td>\n",
              "      <td>92.380135</td>\n",
              "      <td>8089800</td>\n",
              "      <td>-0.031830</td>\n",
              "      <td>-3.78125</td>\n",
              "      <td>NaN</td>\n",
              "      <td>NaN</td>\n",
              "      <td>NaN</td>\n",
              "      <td>8164300.0</td>\n",
              "      <td>0.000000</td>\n",
              "    </tr>\n",
              "    <tr>\n",
              "      <th>2000-01-05</th>\n",
              "      <td>139.93750</td>\n",
              "      <td>141.53125</td>\n",
              "      <td>137.250000</td>\n",
              "      <td>140.0000</td>\n",
              "      <td>92.545326</td>\n",
              "      <td>12177900</td>\n",
              "      <td>-0.025038</td>\n",
              "      <td>0.06250</td>\n",
              "      <td>-0.031830</td>\n",
              "      <td>NaN</td>\n",
              "      <td>NaN</td>\n",
              "      <td>8089800.0</td>\n",
              "      <td>NaN</td>\n",
              "    </tr>\n",
              "    <tr>\n",
              "      <th>2000-01-06</th>\n",
              "      <td>139.62500</td>\n",
              "      <td>141.50000</td>\n",
              "      <td>137.750000</td>\n",
              "      <td>137.7500</td>\n",
              "      <td>91.058060</td>\n",
              "      <td>6227200</td>\n",
              "      <td>-0.002233</td>\n",
              "      <td>-1.87500</td>\n",
              "      <td>-0.025038</td>\n",
              "      <td>141.729167</td>\n",
              "      <td>NaN</td>\n",
              "      <td>12177900.0</td>\n",
              "      <td>-0.029550</td>\n",
              "    </tr>\n",
              "    <tr>\n",
              "      <th>2000-01-07</th>\n",
              "      <td>140.31250</td>\n",
              "      <td>145.75000</td>\n",
              "      <td>140.062500</td>\n",
              "      <td>145.7500</td>\n",
              "      <td>96.346375</td>\n",
              "      <td>8066500</td>\n",
              "      <td>0.004924</td>\n",
              "      <td>5.43750</td>\n",
              "      <td>-0.002233</td>\n",
              "      <td>139.166667</td>\n",
              "      <td>NaN</td>\n",
              "      <td>6227200.0</td>\n",
              "      <td>-0.011174</td>\n",
              "    </tr>\n",
              "  </tbody>\n",
              "</table>\n",
              "</div>\n",
              "      <button class=\"colab-df-convert\" onclick=\"convertToInteractive('df-26d35f78-83e8-4f52-8265-6717c58e67b1')\"\n",
              "              title=\"Convert this dataframe to an interactive table.\"\n",
              "              style=\"display:none;\">\n",
              "        \n",
              "  <svg xmlns=\"http://www.w3.org/2000/svg\" height=\"24px\"viewBox=\"0 0 24 24\"\n",
              "       width=\"24px\">\n",
              "    <path d=\"M0 0h24v24H0V0z\" fill=\"none\"/>\n",
              "    <path d=\"M18.56 5.44l.94 2.06.94-2.06 2.06-.94-2.06-.94-.94-2.06-.94 2.06-2.06.94zm-11 1L8.5 8.5l.94-2.06 2.06-.94-2.06-.94L8.5 2.5l-.94 2.06-2.06.94zm10 10l.94 2.06.94-2.06 2.06-.94-2.06-.94-.94-2.06-.94 2.06-2.06.94z\"/><path d=\"M17.41 7.96l-1.37-1.37c-.4-.4-.92-.59-1.43-.59-.52 0-1.04.2-1.43.59L10.3 9.45l-7.72 7.72c-.78.78-.78 2.05 0 2.83L4 21.41c.39.39.9.59 1.41.59.51 0 1.02-.2 1.41-.59l7.78-7.78 2.81-2.81c.8-.78.8-2.07 0-2.86zM5.41 20L4 18.59l7.72-7.72 1.47 1.35L5.41 20z\"/>\n",
              "  </svg>\n",
              "      </button>\n",
              "      \n",
              "  <style>\n",
              "    .colab-df-container {\n",
              "      display:flex;\n",
              "      flex-wrap:wrap;\n",
              "      gap: 12px;\n",
              "    }\n",
              "\n",
              "    .colab-df-convert {\n",
              "      background-color: #E8F0FE;\n",
              "      border: none;\n",
              "      border-radius: 50%;\n",
              "      cursor: pointer;\n",
              "      display: none;\n",
              "      fill: #1967D2;\n",
              "      height: 32px;\n",
              "      padding: 0 0 0 0;\n",
              "      width: 32px;\n",
              "    }\n",
              "\n",
              "    .colab-df-convert:hover {\n",
              "      background-color: #E2EBFA;\n",
              "      box-shadow: 0px 1px 2px rgba(60, 64, 67, 0.3), 0px 1px 3px 1px rgba(60, 64, 67, 0.15);\n",
              "      fill: #174EA6;\n",
              "    }\n",
              "\n",
              "    [theme=dark] .colab-df-convert {\n",
              "      background-color: #3B4455;\n",
              "      fill: #D2E3FC;\n",
              "    }\n",
              "\n",
              "    [theme=dark] .colab-df-convert:hover {\n",
              "      background-color: #434B5C;\n",
              "      box-shadow: 0px 1px 3px 1px rgba(0, 0, 0, 0.15);\n",
              "      filter: drop-shadow(0px 1px 2px rgba(0, 0, 0, 0.3));\n",
              "      fill: #FFFFFF;\n",
              "    }\n",
              "  </style>\n",
              "\n",
              "      <script>\n",
              "        const buttonEl =\n",
              "          document.querySelector('#df-26d35f78-83e8-4f52-8265-6717c58e67b1 button.colab-df-convert');\n",
              "        buttonEl.style.display =\n",
              "          google.colab.kernel.accessAllowed ? 'block' : 'none';\n",
              "\n",
              "        async function convertToInteractive(key) {\n",
              "          const element = document.querySelector('#df-26d35f78-83e8-4f52-8265-6717c58e67b1');\n",
              "          const dataTable =\n",
              "            await google.colab.kernel.invokeFunction('convertToInteractive',\n",
              "                                                     [key], {});\n",
              "          if (!dataTable) return;\n",
              "\n",
              "          const docLinkHtml = 'Like what you see? Visit the ' +\n",
              "            '<a target=\"_blank\" href=https://colab.research.google.com/notebooks/data_table.ipynb>data table notebook</a>'\n",
              "            + ' to learn more about interactive tables.';\n",
              "          element.innerHTML = '';\n",
              "          dataTable['output_type'] = 'display_data';\n",
              "          await google.colab.output.renderOutput(dataTable, element);\n",
              "          const docLink = document.createElement('div');\n",
              "          docLink.innerHTML = docLinkHtml;\n",
              "          element.appendChild(docLink);\n",
              "        }\n",
              "      </script>\n",
              "    </div>\n",
              "  </div>\n",
              "  "
            ]
          },
          "metadata": {},
          "execution_count": 6
        }
      ]
    },
    {
      "cell_type": "code",
      "source": [
        "#drop nans\n",
        "df = df.dropna()\n",
        "\n",
        "#display the data frame with the new generated metrics\n",
        "df.head()"
      ],
      "metadata": {
        "colab": {
          "base_uri": "https://localhost:8080/",
          "height": 406
        },
        "id": "G4g5cOrM-UtG",
        "outputId": "9d4f4cd3-e796-4a46-d955-7464ea06ed42"
      },
      "execution_count": 7,
      "outputs": [
        {
          "output_type": "execute_result",
          "data": {
            "text/plain": [
              "                 Open       High        Low      Close  Adj Close   Volume  \\\n",
              "Date                                                                         \n",
              "2000-01-10  146.25000  146.90625  145.03125  146.25000  96.676857  5741700   \n",
              "2000-01-11  145.81250  146.09375  143.50000  144.50000  95.520035  7503700   \n",
              "2000-01-12  144.59375  144.59375  142.87500  143.06250  94.569862  6907700   \n",
              "2000-01-13  144.46875  145.75000  143.28125  145.00000  95.850540  5158300   \n",
              "2000-01-14  146.53125  147.46875  145.96875  146.96875  97.151970  7437300   \n",
              "\n",
              "            Pct_change     Gain  pct_change_yesterday  lag_avg_close3  \\\n",
              "Date                                                                    \n",
              "2000-01-10    0.042316  0.00000              0.004924      141.166667   \n",
              "2000-01-11   -0.002991 -1.31250              0.042316      143.250000   \n",
              "2000-01-12   -0.008358 -1.53125             -0.002991      145.500000   \n",
              "2000-01-13   -0.000864  0.53125             -0.008358      144.604167   \n",
              "2000-01-14    0.014276  0.43750             -0.000864      144.187500   \n",
              "\n",
              "            lag_avg_close5  Volume_yesterday  Pct_change_lag3_damp  \n",
              "Date                                                                \n",
              "2000-01-10        141.7375         8066500.0              0.015002  \n",
              "2000-01-11        141.9000         5741700.0              0.014750  \n",
              "2000-01-12        142.8500         7503700.0              0.015483  \n",
              "2000-01-13        143.4625         6907700.0             -0.006107  \n",
              "2000-01-14        144.9125         5158300.0              0.002527  "
            ],
            "text/html": [
              "\n",
              "  <div id=\"df-e579f9a4-bff0-47b7-b0f1-d05bfa109676\">\n",
              "    <div class=\"colab-df-container\">\n",
              "      <div>\n",
              "<style scoped>\n",
              "    .dataframe tbody tr th:only-of-type {\n",
              "        vertical-align: middle;\n",
              "    }\n",
              "\n",
              "    .dataframe tbody tr th {\n",
              "        vertical-align: top;\n",
              "    }\n",
              "\n",
              "    .dataframe thead th {\n",
              "        text-align: right;\n",
              "    }\n",
              "</style>\n",
              "<table border=\"1\" class=\"dataframe\">\n",
              "  <thead>\n",
              "    <tr style=\"text-align: right;\">\n",
              "      <th></th>\n",
              "      <th>Open</th>\n",
              "      <th>High</th>\n",
              "      <th>Low</th>\n",
              "      <th>Close</th>\n",
              "      <th>Adj Close</th>\n",
              "      <th>Volume</th>\n",
              "      <th>Pct_change</th>\n",
              "      <th>Gain</th>\n",
              "      <th>pct_change_yesterday</th>\n",
              "      <th>lag_avg_close3</th>\n",
              "      <th>lag_avg_close5</th>\n",
              "      <th>Volume_yesterday</th>\n",
              "      <th>Pct_change_lag3_damp</th>\n",
              "    </tr>\n",
              "    <tr>\n",
              "      <th>Date</th>\n",
              "      <th></th>\n",
              "      <th></th>\n",
              "      <th></th>\n",
              "      <th></th>\n",
              "      <th></th>\n",
              "      <th></th>\n",
              "      <th></th>\n",
              "      <th></th>\n",
              "      <th></th>\n",
              "      <th></th>\n",
              "      <th></th>\n",
              "      <th></th>\n",
              "      <th></th>\n",
              "    </tr>\n",
              "  </thead>\n",
              "  <tbody>\n",
              "    <tr>\n",
              "      <th>2000-01-10</th>\n",
              "      <td>146.25000</td>\n",
              "      <td>146.90625</td>\n",
              "      <td>145.03125</td>\n",
              "      <td>146.25000</td>\n",
              "      <td>96.676857</td>\n",
              "      <td>5741700</td>\n",
              "      <td>0.042316</td>\n",
              "      <td>0.00000</td>\n",
              "      <td>0.004924</td>\n",
              "      <td>141.166667</td>\n",
              "      <td>141.7375</td>\n",
              "      <td>8066500.0</td>\n",
              "      <td>0.015002</td>\n",
              "    </tr>\n",
              "    <tr>\n",
              "      <th>2000-01-11</th>\n",
              "      <td>145.81250</td>\n",
              "      <td>146.09375</td>\n",
              "      <td>143.50000</td>\n",
              "      <td>144.50000</td>\n",
              "      <td>95.520035</td>\n",
              "      <td>7503700</td>\n",
              "      <td>-0.002991</td>\n",
              "      <td>-1.31250</td>\n",
              "      <td>0.042316</td>\n",
              "      <td>143.250000</td>\n",
              "      <td>141.9000</td>\n",
              "      <td>5741700.0</td>\n",
              "      <td>0.014750</td>\n",
              "    </tr>\n",
              "    <tr>\n",
              "      <th>2000-01-12</th>\n",
              "      <td>144.59375</td>\n",
              "      <td>144.59375</td>\n",
              "      <td>142.87500</td>\n",
              "      <td>143.06250</td>\n",
              "      <td>94.569862</td>\n",
              "      <td>6907700</td>\n",
              "      <td>-0.008358</td>\n",
              "      <td>-1.53125</td>\n",
              "      <td>-0.002991</td>\n",
              "      <td>145.500000</td>\n",
              "      <td>142.8500</td>\n",
              "      <td>7503700.0</td>\n",
              "      <td>0.015483</td>\n",
              "    </tr>\n",
              "    <tr>\n",
              "      <th>2000-01-13</th>\n",
              "      <td>144.46875</td>\n",
              "      <td>145.75000</td>\n",
              "      <td>143.28125</td>\n",
              "      <td>145.00000</td>\n",
              "      <td>95.850540</td>\n",
              "      <td>5158300</td>\n",
              "      <td>-0.000864</td>\n",
              "      <td>0.53125</td>\n",
              "      <td>-0.008358</td>\n",
              "      <td>144.604167</td>\n",
              "      <td>143.4625</td>\n",
              "      <td>6907700.0</td>\n",
              "      <td>-0.006107</td>\n",
              "    </tr>\n",
              "    <tr>\n",
              "      <th>2000-01-14</th>\n",
              "      <td>146.53125</td>\n",
              "      <td>147.46875</td>\n",
              "      <td>145.96875</td>\n",
              "      <td>146.96875</td>\n",
              "      <td>97.151970</td>\n",
              "      <td>7437300</td>\n",
              "      <td>0.014276</td>\n",
              "      <td>0.43750</td>\n",
              "      <td>-0.000864</td>\n",
              "      <td>144.187500</td>\n",
              "      <td>144.9125</td>\n",
              "      <td>5158300.0</td>\n",
              "      <td>0.002527</td>\n",
              "    </tr>\n",
              "  </tbody>\n",
              "</table>\n",
              "</div>\n",
              "      <button class=\"colab-df-convert\" onclick=\"convertToInteractive('df-e579f9a4-bff0-47b7-b0f1-d05bfa109676')\"\n",
              "              title=\"Convert this dataframe to an interactive table.\"\n",
              "              style=\"display:none;\">\n",
              "        \n",
              "  <svg xmlns=\"http://www.w3.org/2000/svg\" height=\"24px\"viewBox=\"0 0 24 24\"\n",
              "       width=\"24px\">\n",
              "    <path d=\"M0 0h24v24H0V0z\" fill=\"none\"/>\n",
              "    <path d=\"M18.56 5.44l.94 2.06.94-2.06 2.06-.94-2.06-.94-.94-2.06-.94 2.06-2.06.94zm-11 1L8.5 8.5l.94-2.06 2.06-.94-2.06-.94L8.5 2.5l-.94 2.06-2.06.94zm10 10l.94 2.06.94-2.06 2.06-.94-2.06-.94-.94-2.06-.94 2.06-2.06.94z\"/><path d=\"M17.41 7.96l-1.37-1.37c-.4-.4-.92-.59-1.43-.59-.52 0-1.04.2-1.43.59L10.3 9.45l-7.72 7.72c-.78.78-.78 2.05 0 2.83L4 21.41c.39.39.9.59 1.41.59.51 0 1.02-.2 1.41-.59l7.78-7.78 2.81-2.81c.8-.78.8-2.07 0-2.86zM5.41 20L4 18.59l7.72-7.72 1.47 1.35L5.41 20z\"/>\n",
              "  </svg>\n",
              "      </button>\n",
              "      \n",
              "  <style>\n",
              "    .colab-df-container {\n",
              "      display:flex;\n",
              "      flex-wrap:wrap;\n",
              "      gap: 12px;\n",
              "    }\n",
              "\n",
              "    .colab-df-convert {\n",
              "      background-color: #E8F0FE;\n",
              "      border: none;\n",
              "      border-radius: 50%;\n",
              "      cursor: pointer;\n",
              "      display: none;\n",
              "      fill: #1967D2;\n",
              "      height: 32px;\n",
              "      padding: 0 0 0 0;\n",
              "      width: 32px;\n",
              "    }\n",
              "\n",
              "    .colab-df-convert:hover {\n",
              "      background-color: #E2EBFA;\n",
              "      box-shadow: 0px 1px 2px rgba(60, 64, 67, 0.3), 0px 1px 3px 1px rgba(60, 64, 67, 0.15);\n",
              "      fill: #174EA6;\n",
              "    }\n",
              "\n",
              "    [theme=dark] .colab-df-convert {\n",
              "      background-color: #3B4455;\n",
              "      fill: #D2E3FC;\n",
              "    }\n",
              "\n",
              "    [theme=dark] .colab-df-convert:hover {\n",
              "      background-color: #434B5C;\n",
              "      box-shadow: 0px 1px 3px 1px rgba(0, 0, 0, 0.15);\n",
              "      filter: drop-shadow(0px 1px 2px rgba(0, 0, 0, 0.3));\n",
              "      fill: #FFFFFF;\n",
              "    }\n",
              "  </style>\n",
              "\n",
              "      <script>\n",
              "        const buttonEl =\n",
              "          document.querySelector('#df-e579f9a4-bff0-47b7-b0f1-d05bfa109676 button.colab-df-convert');\n",
              "        buttonEl.style.display =\n",
              "          google.colab.kernel.accessAllowed ? 'block' : 'none';\n",
              "\n",
              "        async function convertToInteractive(key) {\n",
              "          const element = document.querySelector('#df-e579f9a4-bff0-47b7-b0f1-d05bfa109676');\n",
              "          const dataTable =\n",
              "            await google.colab.kernel.invokeFunction('convertToInteractive',\n",
              "                                                     [key], {});\n",
              "          if (!dataTable) return;\n",
              "\n",
              "          const docLinkHtml = 'Like what you see? Visit the ' +\n",
              "            '<a target=\"_blank\" href=https://colab.research.google.com/notebooks/data_table.ipynb>data table notebook</a>'\n",
              "            + ' to learn more about interactive tables.';\n",
              "          element.innerHTML = '';\n",
              "          dataTable['output_type'] = 'display_data';\n",
              "          await google.colab.output.renderOutput(dataTable, element);\n",
              "          const docLink = document.createElement('div');\n",
              "          docLink.innerHTML = docLinkHtml;\n",
              "          element.appendChild(docLink);\n",
              "        }\n",
              "      </script>\n",
              "    </div>\n",
              "  </div>\n",
              "  "
            ]
          },
          "metadata": {},
          "execution_count": 7
        }
      ]
    },
    {
      "cell_type": "markdown",
      "source": [
        "## Displaying the lagging vaiables over the given time of the data"
      ],
      "metadata": {
        "id": "wX-k-phEKDYk"
      }
    },
    {
      "cell_type": "code",
      "source": [
        "#Plotting the SP500 over the given time period...\n",
        "# the red line signifies the beggining of covid in the USA\n",
        "# this is how I have decided to split the train and test regions\n",
        "plt.figure(figsize=(16,9))\n",
        "plt.plot(df['Close'])\n",
        "plt.plot(df['lag_avg_close3'])\n",
        "plt.plot(df['lag_avg_close5'])\n",
        "plt.ylabel('SPY Price')\n",
        "plt.xlabel('Year')\n",
        "plt.title('SPY500 Price')\n",
        "plt.axvline(pd.Timestamp('2020-01-21'), color = 'r')\n",
        "plt.show()"
      ],
      "metadata": {
        "colab": {
          "base_uri": "https://localhost:8080/",
          "height": 567
        },
        "id": "W8oYXsGIMMg_",
        "outputId": "0244aec1-8248-444c-8c7d-41cf4efa2bc6"
      },
      "execution_count": 8,
      "outputs": [
        {
          "output_type": "display_data",
          "data": {
            "text/plain": [
              "<Figure size 1152x648 with 1 Axes>"
            ],
            "image/png": "[encoded data removed]"
          },
          "metadata": {
            "needs_background": "light"
          }
        }
      ]
    },
    {
      "cell_type": "markdown",
      "source": [
        "## Showing the lagging variables up close with a zoomed in set of time around the pandemic... the overstatment during the times where the market is trending down was the imputus behind the \"Pct_change_lag3_damp\" variable"
      ],
      "metadata": {
        "id": "u4ufjhiuKPna"
      }
    },
    {
      "cell_type": "code",
      "source": [
        "plt.figure(figsize=(16,9))\n",
        "plt.plot(df['Close'])\n",
        "plt.plot(df['lag_avg_close3'])\n",
        "plt.plot(df['lag_avg_close5'])\n",
        "plt.ylabel('SPY Price')\n",
        "plt.xlabel('Year')\n",
        "plt.title('SPY500 Price')\n",
        "plt.axvline(pd.Timestamp('2020-01-21'), color = 'r')\n",
        "plt.xlim([dt.date(2020,1,1), dt.date(2021, 2, \n",
        "              1)])\n",
        "plt.legend(['Close','lag_avg_close3','lag_avg_close5'])\n",
        "plt.show()"
      ],
      "metadata": {
        "colab": {
          "base_uri": "https://localhost:8080/",
          "height": 567
        },
        "id": "hFSnoE4syQpV",
        "outputId": "d56689f8-2412-48b8-e63e-8f7b6ce61751"
      },
      "execution_count": 9,
      "outputs": [
        {
          "output_type": "display_data",
          "data": {
            "text/plain": [
              "<Figure size 1152x648 with 1 Axes>"
            ],
            "image/png": "[encoded data removed]"
          },
          "metadata": {
            "needs_background": "light"
          }
        }
      ]
    },
    {
      "cell_type": "markdown",
      "source": [
        "## You can see the orange line, the damped variable, overshoots in the negative direction which will help our algorithm make decisions with more risk adverse metrics."
      ],
      "metadata": {
        "id": "WtSM0VbGK5-T"
      }
    },
    {
      "cell_type": "code",
      "source": [
        "plt.figure(figsize=(16,9))\n",
        "plt.plot(df['Pct_change'])\n",
        "plt.plot(df['Pct_change_lag3_damp'])\n",
        "plt.ylabel('SPY Price')\n",
        "plt.xlabel('Year')\n",
        "plt.title('SPY500 Price')\n",
        "plt.axvline(pd.Timestamp('2020-01-21'), color = 'r')\n",
        "plt.xlim([dt.date(2020,1,1), dt.date(2021, 2, \n",
        "              1)])\n",
        "plt.legend(['Pct_change','Pct_change_lag3_damp' ])\n",
        "plt.show()"
      ],
      "metadata": {
        "colab": {
          "base_uri": "https://localhost:8080/",
          "height": 567
        },
        "id": "isfri7E-Ex2o",
        "outputId": "8311eced-d0d6-49a0-9b03-d96cc9a38c5e"
      },
      "execution_count": 10,
      "outputs": [
        {
          "output_type": "display_data",
          "data": {
            "text/plain": [
              "<Figure size 1152x648 with 1 Axes>"
            ],
            "image/png": "[encoded data removed]"
          },
          "metadata": {
            "needs_background": "light"
          }
        }
      ]
    },
    {
      "cell_type": "markdown",
      "source": [
        "## Gradient Boost Regression to forecast"
      ],
      "metadata": {
        "id": "nmb8_sSZRLCu"
      }
    },
    {
      "cell_type": "markdown",
      "source": [
        "## Making an array of binaries for the y vairable of our training and test data.\n",
        "\n",
        "1: if the value goes up close[i-1] --> close[i]\n",
        "\n",
        "-1: if the value goes down close[i-1] --> close[i]"
      ],
      "metadata": {
        "id": "nUbpj4egLZiQ"
      }
    },
    {
      "cell_type": "code",
      "source": [
        "Y = np.where(df['Close'].shift(-1) > df['Close'],1,-1)\n",
        "#checking to make sure the number of rows for x and y are the same\n",
        "len(Y) == df.shape[0]"
      ],
      "metadata": {
        "colab": {
          "base_uri": "https://localhost:8080/"
        },
        "id": "Zo5IQ_8XlgiF",
        "outputId": "76b2db2c-8032-4042-f3df-dc4f28489226"
      },
      "execution_count": 11,
      "outputs": [
        {
          "output_type": "execute_result",
          "data": {
            "text/plain": [
              "True"
            ]
          },
          "metadata": {},
          "execution_count": 11
        }
      ]
    },
    {
      "cell_type": "code",
      "source": [
        "#Constructing the test and train data\n",
        "n_rows = df.shape[0]\n",
        "p_train = 0.70\n",
        "\n",
        "Y_train = Y[:int(np.round(n_rows*p_train))]\n",
        "Y_test = Y[int(np.round(n_rows*p_train)):]\n",
        "\n",
        "X_train = df[[ 'Volume_yesterday', 'Pct_change_lag3_damp', 'lag_avg_close3', 'lag_avg_close5', 'pct_change_yesterday']].iloc[:int(np.round(n_rows*p_train))]\n",
        "X_test = df[[ 'Volume_yesterday', 'Pct_change_lag3_damp', 'lag_avg_close3', 'lag_avg_close5', 'pct_change_yesterday']].iloc[int(np.round(n_rows*p_train)):]"
      ],
      "metadata": {
        "id": "ilDL4M1rWEaq"
      },
      "execution_count": 12,
      "outputs": []
    },
    {
      "cell_type": "code",
      "source": [
        "from sklearn.ensemble import GradientBoostingClassifier\n",
        "from sklearn.model_selection import train_test_split\n",
        "from sklearn.metrics import accuracy_score"
      ],
      "metadata": {
        "id": "2sPO2N9diNZc"
      },
      "execution_count": 13,
      "outputs": []
    },
    {
      "cell_type": "code",
      "source": [
        "clf = GradientBoostingClassifier(n_estimators=5, learning_rate=1,\n",
        "                                 max_depth=1, random_state=10, min_weight_fraction_leaf = 0.1).fit(X_train, Y_train)\n",
        "clf.score(X_test, Y_test)"
      ],
      "metadata": {
        "colab": {
          "base_uri": "https://localhost:8080/"
        },
        "id": "QNN9NeaJjI8s",
        "outputId": "9e4939d0-4b32-40e5-e993-65a399b3ef54"
      },
      "execution_count": 14,
      "outputs": [
        {
          "output_type": "execute_result",
          "data": {
            "text/plain": [
              "0.5521508544490277"
            ]
          },
          "metadata": {},
          "execution_count": 14
        }
      ]
    },
    {
      "cell_type": "markdown",
      "source": [
        "### In this case the clasifier is correct more than half of the time! 55% acuracy with the optimal params as determined below. "
      ],
      "metadata": {
        "id": "FtQLzsdR3WN4"
      }
    },
    {
      "cell_type": "code",
      "source": [
        "pred_array = clf.predict(X_test)\n",
        "\n",
        "#Is the algorithm just taking a long position \n",
        "# How often is it preferencing Buy over Sell?\n",
        "print(len(pred_array) == sum(pred_array), len(pred_array) ,sum(pred_array)\n",
        ")"
      ],
      "metadata": {
        "colab": {
          "base_uri": "https://localhost:8080/"
        },
        "id": "w_jLounqYp6A",
        "outputId": "81d05cd2-2bcb-4d21-9f19-c7f60756638a"
      },
      "execution_count": 15,
      "outputs": [
        {
          "output_type": "stream",
          "name": "stdout",
          "text": [
            "False 1697 1647\n"
          ]
        }
      ]
    },
    {
      "cell_type": "markdown",
      "source": [
        "### The classifier recomends buying/holding much more frequently than it recomends selling."
      ],
      "metadata": {
        "id": "vQRcXCTP3GBF"
      }
    },
    {
      "cell_type": "code",
      "source": [
        "# set params for gradient boost\n",
        "params = {\n",
        "    \"n_estimators\": [5,10],\n",
        "    \"max_depth\": [1,2],\n",
        "    #\"min_samples_split\": [1,2,5],\n",
        "    \"learning_rate\": np.linspace(0.01,0.1, 3),\n",
        "    \"min_weight_fraction_leaf\" : np.linspace(0.1,0.5,10)\n",
        "    #\"loss\": 'huber',\n",
        "    #\"loss\": 'squared_error', # 50% acc, 9 MSE\n",
        "    #\"criterion\" : 'friedman_mse',\n",
        "    #\"verbose\" : 1\n",
        "}\n",
        "\n",
        "from sklearn.model_selection import GridSearchCV\n",
        "from sklearn.ensemble import GradientBoostingClassifier, GradientBoostingRegressor\n",
        "gbc = GradientBoostingClassifier()\n",
        "cv = GridSearchCV(gbc, params, cv=5)\n",
        "cv.fit(X_train, Y_train)"
      ],
      "metadata": {
        "colab": {
          "base_uri": "https://localhost:8080/"
        },
        "id": "A67Qbrjx-FxL",
        "outputId": "3819b88f-592f-440e-8027-3ce8bcc4cf94"
      },
      "execution_count": 16,
      "outputs": [
        {
          "output_type": "execute_result",
          "data": {
            "text/plain": [
              "GridSearchCV(cv=5, estimator=GradientBoostingClassifier(),\n",
              "             param_grid={'learning_rate': array([0.01 , 0.055, 0.1  ]),\n",
              "                         'max_depth': [1, 2],\n",
              "                         'min_weight_fraction_leaf': array([0.1       , 0.14444444, 0.18888889, 0.23333333, 0.27777778,\n",
              "       0.32222222, 0.36666667, 0.41111111, 0.45555556, 0.5       ]),\n",
              "                         'n_estimators': [5, 10]})"
            ]
          },
          "metadata": {},
          "execution_count": 16
        }
      ]
    },
    {
      "cell_type": "code",
      "source": [
        "print(cv.best_params_)"
      ],
      "metadata": {
        "colab": {
          "base_uri": "https://localhost:8080/"
        },
        "id": "o0IpCIgpODZr",
        "outputId": "e051fb27-3022-4eb6-b0fd-1a9d3c0dee03"
      },
      "execution_count": 17,
      "outputs": [
        {
          "output_type": "stream",
          "name": "stdout",
          "text": [
            "{'learning_rate': 0.01, 'max_depth': 1, 'min_weight_fraction_leaf': 0.1, 'n_estimators': 5}\n"
          ]
        }
      ]
    },
    {
      "cell_type": "code",
      "source": [
        "plt.bar(x = [ 'Volume_yesterday', 'Pct_change_lag3_damp', 'lag_avg_close3', 'lag_avg_close5', 'pct_change_yesterday'],\n",
        "        height = clf.feature_importances_)\n",
        "plt.xticks(rotation = 45)\n",
        "clf.feature_importances_"
      ],
      "metadata": {
        "colab": {
          "base_uri": "https://localhost:8080/",
          "height": 364
        },
        "id": "EYrctX5Xrsl7",
        "outputId": "6c832d0d-f03b-4b8d-b14c-660cb59b3f42"
      },
      "execution_count": 18,
      "outputs": [
        {
          "output_type": "execute_result",
          "data": {
            "text/plain": [
              "array([0.82093193, 0.17906807, 0.        , 0.        , 0.        ])"
            ]
          },
          "metadata": {},
          "execution_count": 18
        },
        {
          "output_type": "display_data",
          "data": {
            "text/plain": [
              "<Figure size 432x288 with 1 Axes>"
            ],
            "image/png": "[encoded data removed]"
          },
          "metadata": {
            "needs_background": "light"
          }
        }
      ]
    },
    {
      "cell_type": "markdown",
      "source": [
        "## Using cross validation grid search to reveal the best parameters for the algorithm. After considering these parameters, it appears as if the most important metrics used to classify are those shown above on the bar chart."
      ],
      "metadata": {
        "id": "uPnc0ehfVk9v"
      }
    },
    {
      "cell_type": "code",
      "source": [
        "dfa = yf.download('TSLA', start=\"2005-01-01\", end=\"2022-07-01\")"
      ],
      "metadata": {
        "colab": {
          "base_uri": "https://localhost:8080/"
        },
        "id": "ekZ_ewUnOKNJ",
        "outputId": "bc997d30-9da2-43ca-810f-72d2fe99f184"
      },
      "execution_count": 19,
      "outputs": [
        {
          "output_type": "stream",
          "name": "stdout",
          "text": [
            "\r[*********************100%***********************]  1 of 1 completed\n"
          ]
        }
      ]
    },
    {
      "cell_type": "markdown",
      "source": [
        "## Lets see how the trained classifier performs on TSLA!"
      ],
      "metadata": {
        "id": "ELcY2F_XIcpm"
      }
    },
    {
      "cell_type": "code",
      "source": [
        "#Generating variables\n",
        "\n",
        "#pct change denotes the change in the price from open-open\n",
        "# this encompases the movement in price throughout the night\n",
        "dfa['Pct_change'] = dfa['Open'].pct_change()\n",
        "\n",
        "#gain represents the daily gain/loss if negative\n",
        "dfa['Gain'] = dfa['Close'] - dfa['Open']\n",
        "\n",
        "#ceating a lagging variable\n",
        "dfa['pct_change_yesterday'] = dfa['Pct_change'].shift(1)\n",
        "\n",
        "dfa['lag_avg_close3'] = dfa['Close'].rolling(3).mean().shift(1)\n",
        "\n",
        "dfa['lag_avg_close5'] = dfa['Close'].rolling(5).mean().shift(1)\n",
        "\n",
        "dfa['Volume_yesterday'] = dfa['Volume'].shift(1)\n",
        "\n"
      ],
      "metadata": {
        "id": "VU8F53jQdUqK"
      },
      "execution_count": 20,
      "outputs": []
    },
    {
      "cell_type": "code",
      "source": [
        "dfa['Pct_change_lag3_damp'] = np.zeros(dfa.shape[0])\n",
        "\n",
        "arr = np.array(dfa['Pct_change'])\n",
        "window_size = 3\n",
        "  \n",
        "i = 0\n",
        "moving_averages = []\n",
        "  \n",
        "# Loop through the array to consider\n",
        "# every window of size 3\n",
        "while i < len(arr) - window_size + 1:\n",
        "    \n",
        "    # Store elements from i to i+window_size\n",
        "    # in list to get the current window\n",
        "    window = arr[i : i + window_size]\n",
        "\n",
        "    #if there is  equal to or more than 2 negative movements in the past 3 days\n",
        "    # insert a proportion to take down the expectations\n",
        "    if (np.sum(window <= 0) >= 2):\n",
        "      dfa['Pct_change_lag3_damp'][i+window_size-1] = (sum(window) / window_size)*1.5\n",
        "    else:\n",
        "  \n",
        "    # Calculate the average of current window\n",
        "      dfa['Pct_change_lag3_damp'][i+window_size-1] = (sum(window) / window_size)\n",
        "      \n",
        "    # Shift window to right by one position\n",
        "    i += 1\n",
        "  \n",
        "\n",
        "\n",
        "dfa = dfa.dropna()\n",
        "dfa.head()\n"
      ],
      "metadata": {
        "colab": {
          "base_uri": "https://localhost:8080/",
          "height": 529
        },
        "id": "X3q8txIkdoOv",
        "outputId": "803e4e48-48b2-41a0-8aa0-b3b1197c0a0e"
      },
      "execution_count": 21,
      "outputs": [
        {
          "output_type": "stream",
          "name": "stderr",
          "text": [
            "/usr/local/lib/python3.7/dist-packages/ipykernel_launcher.py:24: SettingWithCopyWarning: \n",
            "A value is trying to be set on a copy of a slice from a DataFrame\n",
            "\n",
            "See the caveats in the documentation: https://pandas.pydata.org/pandas-docs/stable/user_guide/indexing.html#returning-a-view-versus-a-copy\n",
            "/usr/local/lib/python3.7/dist-packages/ipykernel_launcher.py:20: SettingWithCopyWarning: \n",
            "A value is trying to be set on a copy of a slice from a DataFrame\n",
            "\n",
            "See the caveats in the documentation: https://pandas.pydata.org/pandas-docs/stable/user_guide/indexing.html#returning-a-view-versus-a-copy\n"
          ]
        },
        {
          "output_type": "execute_result",
          "data": {
            "text/plain": [
              "             Open   High    Low  Close  Adj Close    Volume  Pct_change  \\\n",
              "Date                                                                      \n",
              "2010-07-07  3.280  3.326  2.996  3.160      3.160  34608500   -0.180000   \n",
              "2010-07-08  3.228  3.504  3.114  3.492      3.492  38557000   -0.015854   \n",
              "2010-07-09  3.516  3.580  3.310  3.480      3.480  20253000    0.089219   \n",
              "2010-07-12  3.590  3.614  3.400  3.410      3.410  11012500    0.021047   \n",
              "2010-07-13  3.478  3.728  3.380  3.628      3.628  13400500   -0.031198   \n",
              "\n",
              "             Gain  pct_change_yesterday  lag_avg_close3  lag_avg_close5  \\\n",
              "Date                                                                      \n",
              "2010-07-07 -0.120             -0.130435        3.818000          4.1996   \n",
              "2010-07-08  0.264             -0.180000        3.407333          3.8760   \n",
              "2010-07-09 -0.036             -0.015854        3.291333          3.6212   \n",
              "2010-07-12 -0.180              0.089219        3.377333          3.4388   \n",
              "2010-07-13  0.150              0.021047        3.460667          3.3528   \n",
              "\n",
              "            Volume_yesterday  Pct_change_lag3_damp  \n",
              "Date                                                \n",
              "2010-07-07        34334500.0             -0.195217  \n",
              "2010-07-08        34608500.0             -0.163144  \n",
              "2010-07-09        38557000.0             -0.053317  \n",
              "2010-07-12        20253000.0              0.031471  \n",
              "2010-07-13        11012500.0              0.026356  "
            ],
            "text/html": [
              "\n",
              "  <div id=\"df-359e5da7-c053-4f09-b650-6b02cb5278f3\">\n",
              "    <div class=\"colab-df-container\">\n",
              "      <div>\n",
              "<style scoped>\n",
              "    .dataframe tbody tr th:only-of-type {\n",
              "        vertical-align: middle;\n",
              "    }\n",
              "\n",
              "    .dataframe tbody tr th {\n",
              "        vertical-align: top;\n",
              "    }\n",
              "\n",
              "    .dataframe thead th {\n",
              "        text-align: right;\n",
              "    }\n",
              "</style>\n",
              "<table border=\"1\" class=\"dataframe\">\n",
              "  <thead>\n",
              "    <tr style=\"text-align: right;\">\n",
              "      <th></th>\n",
              "      <th>Open</th>\n",
              "      <th>High</th>\n",
              "      <th>Low</th>\n",
              "      <th>Close</th>\n",
              "      <th>Adj Close</th>\n",
              "      <th>Volume</th>\n",
              "      <th>Pct_change</th>\n",
              "      <th>Gain</th>\n",
              "      <th>pct_change_yesterday</th>\n",
              "      <th>lag_avg_close3</th>\n",
              "      <th>lag_avg_close5</th>\n",
              "      <th>Volume_yesterday</th>\n",
              "      <th>Pct_change_lag3_damp</th>\n",
              "    </tr>\n",
              "    <tr>\n",
              "      <th>Date</th>\n",
              "      <th></th>\n",
              "      <th></th>\n",
              "      <th></th>\n",
              "      <th></th>\n",
              "      <th></th>\n",
              "      <th></th>\n",
              "      <th></th>\n",
              "      <th></th>\n",
              "      <th></th>\n",
              "      <th></th>\n",
              "      <th></th>\n",
              "      <th></th>\n",
              "      <th></th>\n",
              "    </tr>\n",
              "  </thead>\n",
              "  <tbody>\n",
              "    <tr>\n",
              "      <th>2010-07-07</th>\n",
              "      <td>3.280</td>\n",
              "      <td>3.326</td>\n",
              "      <td>2.996</td>\n",
              "      <td>3.160</td>\n",
              "      <td>3.160</td>\n",
              "      <td>34608500</td>\n",
              "      <td>-0.180000</td>\n",
              "      <td>-0.120</td>\n",
              "      <td>-0.130435</td>\n",
              "      <td>3.818000</td>\n",
              "      <td>4.1996</td>\n",
              "      <td>34334500.0</td>\n",
              "      <td>-0.195217</td>\n",
              "    </tr>\n",
              "    <tr>\n",
              "      <th>2010-07-08</th>\n",
              "      <td>3.228</td>\n",
              "      <td>3.504</td>\n",
              "      <td>3.114</td>\n",
              "      <td>3.492</td>\n",
              "      <td>3.492</td>\n",
              "      <td>38557000</td>\n",
              "      <td>-0.015854</td>\n",
              "      <td>0.264</td>\n",
              "      <td>-0.180000</td>\n",
              "      <td>3.407333</td>\n",
              "      <td>3.8760</td>\n",
              "      <td>34608500.0</td>\n",
              "      <td>-0.163144</td>\n",
              "    </tr>\n",
              "    <tr>\n",
              "      <th>2010-07-09</th>\n",
              "      <td>3.516</td>\n",
              "      <td>3.580</td>\n",
              "      <td>3.310</td>\n",
              "      <td>3.480</td>\n",
              "      <td>3.480</td>\n",
              "      <td>20253000</td>\n",
              "      <td>0.089219</td>\n",
              "      <td>-0.036</td>\n",
              "      <td>-0.015854</td>\n",
              "      <td>3.291333</td>\n",
              "      <td>3.6212</td>\n",
              "      <td>38557000.0</td>\n",
              "      <td>-0.053317</td>\n",
              "    </tr>\n",
              "    <tr>\n",
              "      <th>2010-07-12</th>\n",
              "      <td>3.590</td>\n",
              "      <td>3.614</td>\n",
              "      <td>3.400</td>\n",
              "      <td>3.410</td>\n",
              "      <td>3.410</td>\n",
              "      <td>11012500</td>\n",
              "      <td>0.021047</td>\n",
              "      <td>-0.180</td>\n",
              "      <td>0.089219</td>\n",
              "      <td>3.377333</td>\n",
              "      <td>3.4388</td>\n",
              "      <td>20253000.0</td>\n",
              "      <td>0.031471</td>\n",
              "    </tr>\n",
              "    <tr>\n",
              "      <th>2010-07-13</th>\n",
              "      <td>3.478</td>\n",
              "      <td>3.728</td>\n",
              "      <td>3.380</td>\n",
              "      <td>3.628</td>\n",
              "      <td>3.628</td>\n",
              "      <td>13400500</td>\n",
              "      <td>-0.031198</td>\n",
              "      <td>0.150</td>\n",
              "      <td>0.021047</td>\n",
              "      <td>3.460667</td>\n",
              "      <td>3.3528</td>\n",
              "      <td>11012500.0</td>\n",
              "      <td>0.026356</td>\n",
              "    </tr>\n",
              "  </tbody>\n",
              "</table>\n",
              "</div>\n",
              "      <button class=\"colab-df-convert\" onclick=\"convertToInteractive('df-359e5da7-c053-4f09-b650-6b02cb5278f3')\"\n",
              "              title=\"Convert this dataframe to an interactive table.\"\n",
              "              style=\"display:none;\">\n",
              "        \n",
              "  <svg xmlns=\"http://www.w3.org/2000/svg\" height=\"24px\"viewBox=\"0 0 24 24\"\n",
              "       width=\"24px\">\n",
              "    <path d=\"M0 0h24v24H0V0z\" fill=\"none\"/>\n",
              "    <path d=\"M18.56 5.44l.94 2.06.94-2.06 2.06-.94-2.06-.94-.94-2.06-.94 2.06-2.06.94zm-11 1L8.5 8.5l.94-2.06 2.06-.94-2.06-.94L8.5 2.5l-.94 2.06-2.06.94zm10 10l.94 2.06.94-2.06 2.06-.94-2.06-.94-.94-2.06-.94 2.06-2.06.94z\"/><path d=\"M17.41 7.96l-1.37-1.37c-.4-.4-.92-.59-1.43-.59-.52 0-1.04.2-1.43.59L10.3 9.45l-7.72 7.72c-.78.78-.78 2.05 0 2.83L4 21.41c.39.39.9.59 1.41.59.51 0 1.02-.2 1.41-.59l7.78-7.78 2.81-2.81c.8-.78.8-2.07 0-2.86zM5.41 20L4 18.59l7.72-7.72 1.47 1.35L5.41 20z\"/>\n",
              "  </svg>\n",
              "      </button>\n",
              "      \n",
              "  <style>\n",
              "    .colab-df-container {\n",
              "      display:flex;\n",
              "      flex-wrap:wrap;\n",
              "      gap: 12px;\n",
              "    }\n",
              "\n",
              "    .colab-df-convert {\n",
              "      background-color: #E8F0FE;\n",
              "      border: none;\n",
              "      border-radius: 50%;\n",
              "      cursor: pointer;\n",
              "      display: none;\n",
              "      fill: #1967D2;\n",
              "      height: 32px;\n",
              "      padding: 0 0 0 0;\n",
              "      width: 32px;\n",
              "    }\n",
              "\n",
              "    .colab-df-convert:hover {\n",
              "      background-color: #E2EBFA;\n",
              "      box-shadow: 0px 1px 2px rgba(60, 64, 67, 0.3), 0px 1px 3px 1px rgba(60, 64, 67, 0.15);\n",
              "      fill: #174EA6;\n",
              "    }\n",
              "\n",
              "    [theme=dark] .colab-df-convert {\n",
              "      background-color: #3B4455;\n",
              "      fill: #D2E3FC;\n",
              "    }\n",
              "\n",
              "    [theme=dark] .colab-df-convert:hover {\n",
              "      background-color: #434B5C;\n",
              "      box-shadow: 0px 1px 3px 1px rgba(0, 0, 0, 0.15);\n",
              "      filter: drop-shadow(0px 1px 2px rgba(0, 0, 0, 0.3));\n",
              "      fill: #FFFFFF;\n",
              "    }\n",
              "  </style>\n",
              "\n",
              "      <script>\n",
              "        const buttonEl =\n",
              "          document.querySelector('#df-359e5da7-c053-4f09-b650-6b02cb5278f3 button.colab-df-convert');\n",
              "        buttonEl.style.display =\n",
              "          google.colab.kernel.accessAllowed ? 'block' : 'none';\n",
              "\n",
              "        async function convertToInteractive(key) {\n",
              "          const element = document.querySelector('#df-359e5da7-c053-4f09-b650-6b02cb5278f3');\n",
              "          const dataTable =\n",
              "            await google.colab.kernel.invokeFunction('convertToInteractive',\n",
              "                                                     [key], {});\n",
              "          if (!dataTable) return;\n",
              "\n",
              "          const docLinkHtml = 'Like what you see? Visit the ' +\n",
              "            '<a target=\"_blank\" href=https://colab.research.google.com/notebooks/data_table.ipynb>data table notebook</a>'\n",
              "            + ' to learn more about interactive tables.';\n",
              "          element.innerHTML = '';\n",
              "          dataTable['output_type'] = 'display_data';\n",
              "          await google.colab.output.renderOutput(dataTable, element);\n",
              "          const docLink = document.createElement('div');\n",
              "          docLink.innerHTML = docLinkHtml;\n",
              "          element.appendChild(docLink);\n",
              "        }\n",
              "      </script>\n",
              "    </div>\n",
              "  </div>\n",
              "  "
            ]
          },
          "metadata": {},
          "execution_count": 21
        }
      ]
    },
    {
      "cell_type": "code",
      "source": [
        "dfa = dfa.reset_index()"
      ],
      "metadata": {
        "id": "ewUSlSDPesls"
      },
      "execution_count": 22,
      "outputs": []
    },
    {
      "cell_type": "code",
      "source": [
        "Ya = np.where(dfa['Close'].shift(-1) > dfa['Close'],1,-1)\n",
        "\n",
        "\n",
        "n_rows = dfa.shape[0]\n",
        "p_train = 0.70\n",
        "\n",
        "Ya_train = Ya[:int(np.round(n_rows*p_train))]\n",
        "Ya_test = Ya[int(np.round(n_rows*p_train)):]\n",
        "\n",
        "Xa_train = dfa[[ 'Volume_yesterday', 'Pct_change_lag3_damp', 'lag_avg_close3', 'lag_avg_close5', 'pct_change_yesterday']].iloc[:int(np.round(n_rows*p_train))]\n",
        "Xa_test = dfa[[ 'Volume_yesterday', 'Pct_change_lag3_damp', 'lag_avg_close3', 'lag_avg_close5', 'pct_change_yesterday']].iloc[int(np.round(n_rows*p_train)):]"
      ],
      "metadata": {
        "id": "c6k3MdYGdpPS"
      },
      "execution_count": 23,
      "outputs": []
    },
    {
      "cell_type": "code",
      "source": [
        "Xa_test"
      ],
      "metadata": {
        "colab": {
          "base_uri": "https://localhost:8080/",
          "height": 424
        },
        "id": "hSg8bCzNenMh",
        "outputId": "efa9ea08-9248-4756-eda9-843cbe1e2f03"
      },
      "execution_count": 24,
      "outputs": [
        {
          "output_type": "execute_result",
          "data": {
            "text/plain": [
              "      Volume_yesterday  Pct_change_lag3_damp  lag_avg_close3  lag_avg_close5  \\\n",
              "2113        21013000.0             -0.024057       67.434001       68.771600   \n",
              "2114        39960500.0             -0.015900       67.334666       68.439200   \n",
              "2115        31791500.0              0.011937       67.716665       68.057199   \n",
              "2116        20638000.0              0.022232       69.185997       68.072398   \n",
              "2117        15403500.0              0.001829       68.863998       68.191599   \n",
              "...                ...                   ...             ...             ...   \n",
              "3013        34734200.0              0.018918      708.193339      682.832007   \n",
              "3014        31866500.0              0.020925      716.863342      702.396008   \n",
              "3015        29726100.0              0.014340      725.696676      719.292004   \n",
              "3016        30130400.0             -0.013340      723.289998      716.668005   \n",
              "3017        27632400.0             -0.051383      706.073324      712.109998   \n",
              "\n",
              "      pct_change_yesterday  \n",
              "2113             -0.050142  \n",
              "2114             -0.027965  \n",
              "2115              0.046308  \n",
              "2116              0.017468  \n",
              "2117              0.002919  \n",
              "...                    ...  \n",
              "3013              0.014513  \n",
              "3014             -0.001835  \n",
              "3015              0.050098  \n",
              "3016             -0.019583  \n",
              "3017             -0.057195  \n",
              "\n",
              "[905 rows x 5 columns]"
            ],
            "text/html": [
              "\n",
              "  <div id=\"df-1edc8a34-c8a6-46a4-8457-1532028c2183\">\n",
              "    <div class=\"colab-df-container\">\n",
              "      <div>\n",
              "<style scoped>\n",
              "    .dataframe tbody tr th:only-of-type {\n",
              "        vertical-align: middle;\n",
              "    }\n",
              "\n",
              "    .dataframe tbody tr th {\n",
              "        vertical-align: top;\n",
              "    }\n",
              "\n",
              "    .dataframe thead th {\n",
              "        text-align: right;\n",
              "    }\n",
              "</style>\n",
              "<table border=\"1\" class=\"dataframe\">\n",
              "  <thead>\n",
              "    <tr style=\"text-align: right;\">\n",
              "      <th></th>\n",
              "      <th>Volume_yesterday</th>\n",
              "      <th>Pct_change_lag3_damp</th>\n",
              "      <th>lag_avg_close3</th>\n",
              "      <th>lag_avg_close5</th>\n",
              "      <th>pct_change_yesterday</th>\n",
              "    </tr>\n",
              "  </thead>\n",
              "  <tbody>\n",
              "    <tr>\n",
              "      <th>2113</th>\n",
              "      <td>21013000.0</td>\n",
              "      <td>-0.024057</td>\n",
              "      <td>67.434001</td>\n",
              "      <td>68.771600</td>\n",
              "      <td>-0.050142</td>\n",
              "    </tr>\n",
              "    <tr>\n",
              "      <th>2114</th>\n",
              "      <td>39960500.0</td>\n",
              "      <td>-0.015900</td>\n",
              "      <td>67.334666</td>\n",
              "      <td>68.439200</td>\n",
              "      <td>-0.027965</td>\n",
              "    </tr>\n",
              "    <tr>\n",
              "      <th>2115</th>\n",
              "      <td>31791500.0</td>\n",
              "      <td>0.011937</td>\n",
              "      <td>67.716665</td>\n",
              "      <td>68.057199</td>\n",
              "      <td>0.046308</td>\n",
              "    </tr>\n",
              "    <tr>\n",
              "      <th>2116</th>\n",
              "      <td>20638000.0</td>\n",
              "      <td>0.022232</td>\n",
              "      <td>69.185997</td>\n",
              "      <td>68.072398</td>\n",
              "      <td>0.017468</td>\n",
              "    </tr>\n",
              "    <tr>\n",
              "      <th>2117</th>\n",
              "      <td>15403500.0</td>\n",
              "      <td>0.001829</td>\n",
              "      <td>68.863998</td>\n",
              "      <td>68.191599</td>\n",
              "      <td>0.002919</td>\n",
              "    </tr>\n",
              "    <tr>\n",
              "      <th>...</th>\n",
              "      <td>...</td>\n",
              "      <td>...</td>\n",
              "      <td>...</td>\n",
              "      <td>...</td>\n",
              "      <td>...</td>\n",
              "    </tr>\n",
              "    <tr>\n",
              "      <th>3013</th>\n",
              "      <td>34734200.0</td>\n",
              "      <td>0.018918</td>\n",
              "      <td>708.193339</td>\n",
              "      <td>682.832007</td>\n",
              "      <td>0.014513</td>\n",
              "    </tr>\n",
              "    <tr>\n",
              "      <th>3014</th>\n",
              "      <td>31866500.0</td>\n",
              "      <td>0.020925</td>\n",
              "      <td>716.863342</td>\n",
              "      <td>702.396008</td>\n",
              "      <td>-0.001835</td>\n",
              "    </tr>\n",
              "    <tr>\n",
              "      <th>3015</th>\n",
              "      <td>29726100.0</td>\n",
              "      <td>0.014340</td>\n",
              "      <td>725.696676</td>\n",
              "      <td>719.292004</td>\n",
              "      <td>0.050098</td>\n",
              "    </tr>\n",
              "    <tr>\n",
              "      <th>3016</th>\n",
              "      <td>30130400.0</td>\n",
              "      <td>-0.013340</td>\n",
              "      <td>723.289998</td>\n",
              "      <td>716.668005</td>\n",
              "      <td>-0.019583</td>\n",
              "    </tr>\n",
              "    <tr>\n",
              "      <th>3017</th>\n",
              "      <td>27632400.0</td>\n",
              "      <td>-0.051383</td>\n",
              "      <td>706.073324</td>\n",
              "      <td>712.109998</td>\n",
              "      <td>-0.057195</td>\n",
              "    </tr>\n",
              "  </tbody>\n",
              "</table>\n",
              "<p>905 rows × 5 columns</p>\n",
              "</div>\n",
              "      <button class=\"colab-df-convert\" onclick=\"convertToInteractive('df-1edc8a34-c8a6-46a4-8457-1532028c2183')\"\n",
              "              title=\"Convert this dataframe to an interactive table.\"\n",
              "              style=\"display:none;\">\n",
              "        \n",
              "  <svg xmlns=\"http://www.w3.org/2000/svg\" height=\"24px\"viewBox=\"0 0 24 24\"\n",
              "       width=\"24px\">\n",
              "    <path d=\"M0 0h24v24H0V0z\" fill=\"none\"/>\n",
              "    <path d=\"M18.56 5.44l.94 2.06.94-2.06 2.06-.94-2.06-.94-.94-2.06-.94 2.06-2.06.94zm-11 1L8.5 8.5l.94-2.06 2.06-.94-2.06-.94L8.5 2.5l-.94 2.06-2.06.94zm10 10l.94 2.06.94-2.06 2.06-.94-2.06-.94-.94-2.06-.94 2.06-2.06.94z\"/><path d=\"M17.41 7.96l-1.37-1.37c-.4-.4-.92-.59-1.43-.59-.52 0-1.04.2-1.43.59L10.3 9.45l-7.72 7.72c-.78.78-.78 2.05 0 2.83L4 21.41c.39.39.9.59 1.41.59.51 0 1.02-.2 1.41-.59l7.78-7.78 2.81-2.81c.8-.78.8-2.07 0-2.86zM5.41 20L4 18.59l7.72-7.72 1.47 1.35L5.41 20z\"/>\n",
              "  </svg>\n",
              "      </button>\n",
              "      \n",
              "  <style>\n",
              "    .colab-df-container {\n",
              "      display:flex;\n",
              "      flex-wrap:wrap;\n",
              "      gap: 12px;\n",
              "    }\n",
              "\n",
              "    .colab-df-convert {\n",
              "      background-color: #E8F0FE;\n",
              "      border: none;\n",
              "      border-radius: 50%;\n",
              "      cursor: pointer;\n",
              "      display: none;\n",
              "      fill: #1967D2;\n",
              "      height: 32px;\n",
              "      padding: 0 0 0 0;\n",
              "      width: 32px;\n",
              "    }\n",
              "\n",
              "    .colab-df-convert:hover {\n",
              "      background-color: #E2EBFA;\n",
              "      box-shadow: 0px 1px 2px rgba(60, 64, 67, 0.3), 0px 1px 3px 1px rgba(60, 64, 67, 0.15);\n",
              "      fill: #174EA6;\n",
              "    }\n",
              "\n",
              "    [theme=dark] .colab-df-convert {\n",
              "      background-color: #3B4455;\n",
              "      fill: #D2E3FC;\n",
              "    }\n",
              "\n",
              "    [theme=dark] .colab-df-convert:hover {\n",
              "      background-color: #434B5C;\n",
              "      box-shadow: 0px 1px 3px 1px rgba(0, 0, 0, 0.15);\n",
              "      filter: drop-shadow(0px 1px 2px rgba(0, 0, 0, 0.3));\n",
              "      fill: #FFFFFF;\n",
              "    }\n",
              "  </style>\n",
              "\n",
              "      <script>\n",
              "        const buttonEl =\n",
              "          document.querySelector('#df-1edc8a34-c8a6-46a4-8457-1532028c2183 button.colab-df-convert');\n",
              "        buttonEl.style.display =\n",
              "          google.colab.kernel.accessAllowed ? 'block' : 'none';\n",
              "\n",
              "        async function convertToInteractive(key) {\n",
              "          const element = document.querySelector('#df-1edc8a34-c8a6-46a4-8457-1532028c2183');\n",
              "          const dataTable =\n",
              "            await google.colab.kernel.invokeFunction('convertToInteractive',\n",
              "                                                     [key], {});\n",
              "          if (!dataTable) return;\n",
              "\n",
              "          const docLinkHtml = 'Like what you see? Visit the ' +\n",
              "            '<a target=\"_blank\" href=https://colab.research.google.com/notebooks/data_table.ipynb>data table notebook</a>'\n",
              "            + ' to learn more about interactive tables.';\n",
              "          element.innerHTML = '';\n",
              "          dataTable['output_type'] = 'display_data';\n",
              "          await google.colab.output.renderOutput(dataTable, element);\n",
              "          const docLink = document.createElement('div');\n",
              "          docLink.innerHTML = docLinkHtml;\n",
              "          element.appendChild(docLink);\n",
              "        }\n",
              "      </script>\n",
              "    </div>\n",
              "  </div>\n",
              "  "
            ]
          },
          "metadata": {},
          "execution_count": 24
        }
      ]
    },
    {
      "cell_type": "code",
      "source": [
        "clf.score(Xa_test, Ya_test)"
      ],
      "metadata": {
        "colab": {
          "base_uri": "https://localhost:8080/"
        },
        "id": "vAs5JpBTeF8v",
        "outputId": "bf71df8f-74ab-4674-d186-abef029546df"
      },
      "execution_count": 25,
      "outputs": [
        {
          "output_type": "execute_result",
          "data": {
            "text/plain": [
              "0.5447513812154696"
            ]
          },
          "metadata": {},
          "execution_count": 25
        }
      ]
    },
    {
      "cell_type": "code",
      "source": [
        "pred_arraya = clf.predict(Xa_test)\n",
        "\n",
        "len(pred_arraya) == sum(pred_arraya)\n",
        "\n",
        "print(len(pred_arraya) == sum(pred_arraya), len(pred_arraya) ,sum(pred_arraya)\n",
        ")"
      ],
      "metadata": {
        "colab": {
          "base_uri": "https://localhost:8080/"
        },
        "id": "ynQThXpNegRM",
        "outputId": "36513c63-5426-4add-bc6e-c11aaed404bf"
      },
      "execution_count": 26,
      "outputs": [
        {
          "output_type": "stream",
          "name": "stdout",
          "text": [
            "False 905 395\n"
          ]
        }
      ]
    },
    {
      "cell_type": "code",
      "source": [
        "from sklearn.neural_network import MLPClassifier\n",
        "from sklearn.datasets import make_classification\n",
        "from sklearn.model_selection import train_test_split\n",
        "\n",
        "\n",
        "MPL = MLPClassifier(solver='lbfgs',hidden_layer_sizes=(8,8,8),max_iter=1000, activation='tanh', random_state=42).fit(X_train, Y_train)\n",
        "MPL.predict_proba(X_test[:1])\n",
        "MPL.predict(X_test)\n",
        "MPL.score(X_test, Y_test)"
      ],
      "metadata": {
        "colab": {
          "base_uri": "https://localhost:8080/"
        },
        "id": "VBejiA-nfBkw",
        "outputId": "17f47837-c633-4434-b260-6d65c514d023"
      },
      "execution_count": 27,
      "outputs": [
        {
          "output_type": "execute_result",
          "data": {
            "text/plain": [
              "0.5492044784914555"
            ]
          },
          "metadata": {},
          "execution_count": 27
        }
      ]
    },
    {
      "cell_type": "markdown",
      "source": [
        "## Accuracy is well over 50% which, in most cases, is indicative of a \"winning\" algorithm"
      ],
      "metadata": {
        "id": "sDEX51_oImfv"
      }
    }
  ]
}